{
 "cells": [
  {
   "cell_type": "markdown",
   "metadata": {},
   "source": [
    "# Interview Resources\n",
    "\n",
    "https://github.com/donnemartin/system-design-primer\n",
    "\n",
    "https://github.com/Olshansk/interview\n",
    "\n",
    "https://github.com/DopplerHQ/awesome-interview-questions\n",
    "\n",
    "https://github.com/jwasham/coding-interview-university\n",
    "\n",
    "https://github.com/yangshun/tech-interview-handbook"
   ]
  },
  {
   "cell_type": "markdown",
   "metadata": {},
   "source": [
    "# Basic Data Structures to Know\n",
    "\n",
    "1. Linked List\n",
    "2. Array\n",
    "3. Hash Table\n",
    "    * Hashset (set) - allows constant time lookup!\n",
    "4. Stack\n",
    "5. Queue\n",
    "6. Min/Max Priority Queue\n",
    "7. Binary Heap\n",
    "8. Graphs:\n",
    "    * Trees (recall, trees are just a special case of undirected graphs!):\n",
    "        * Tree\n",
    "        * Binary Tree\n",
    "        * Binary Search Tree\n",
    "        * Red-Black BSTs (used to make sure a BST is balanced)\n",
    "    * Undirected Graph\n",
    "        * Model this as a directed graph with edges pointing in both directions\n",
    "    * Directed Graph\n",
    "9. Union-Find"
   ]
  },
  {
   "cell_type": "markdown",
   "metadata": {},
   "source": [
    "# List of Useful Algorithms\n",
    "\n",
    "This notebook is just a list of algorithms by category and some notes about their usability in various situations"
   ]
  },
  {
   "cell_type": "markdown",
   "metadata": {},
   "source": [
    "## Search Algorithms\n",
    "\n",
    "* Binary Search (log N)\n",
    "    * Given a sorted array, find a value in that array\n",
    "* Union-Find (worst case N, average case log N if you also use weighting)\n",
    "    * UF can be a really good, simple data structure for finding connected components"
   ]
  },
  {
   "cell_type": "markdown",
   "metadata": {},
   "source": [
    "### Search Applications\n",
    "\n",
    "1. "
   ]
  },
  {
   "cell_type": "markdown",
   "metadata": {},
   "source": [
    "## Sorting Algorithms\n",
    "\n",
    "* Insertion Sort (N^2)\n",
    "    * Starting from the beginning of an array, swap the element with each element to its left that is greater than the current element\n",
    "    * Running time is quadratic (really, N ^ 2 / 4), but where insertion sort can be really useful is in optimising merge sort--cutting to insertion sort for small sub-arrays (N < 10) can improve the performance of merge sort by cutting the number of recursive calls\n",
    "    * <strong>This idea of cutting the number of low-level recursive calls to improve overall performance is very important in optimisation!</strong>\n",
    "* Shuffling (N)\n",
    "    * Related to sorting, so discussed here\n",
    "    * Proceeding from left to right in an array, choose a random position in the array to the left of the current element and swap the elements\n",
    "    * This results in a UNIFORMLY RANDOM ordering of the array\n",
    "* Mergesort (N log N)\n",
    "    * Recursively divide an array in half, sort each half, then merge the arrays\n",
    "* Quicksort (N log N, worst case quadratic though, watch for repeated elements)\n",
    "    * Idea is to pick a pivot element randomly, then recursively sort a left and right sub-array, with everything in the left array being less than the pivot and everything in the right array greater than the pivot\n",
    "    * Reasonably faster than mergesort, but the tradeoff is that mergesort guarantees N log N performance, and it is stable. The worst case for quicksort is N ^ 2 / 2, and it is not stable\n",
    "    * Also recall that quicksort will take quadratic time when there are many repeated elements, so use 3-way quicksort to avoid: in addition to the left and right sub-arrays, create a middle sub-array with all elements equal to the partitioning element\n",
    "* Heapsort (N log N)\n",
    "    * Heapsort is useful when you need guaranteed N log N performance in-place\n",
    "    * Mergesort requires N extra space, Quicksort isn't guaranteed N log N performance"
   ]
  },
  {
   "cell_type": "markdown",
   "metadata": {},
   "source": [
    "### Sorting Applications\n",
    "\n",
    "1. Finding the kth largest element in an array in linear time"
   ]
  },
  {
   "cell_type": "markdown",
   "metadata": {},
   "source": [
    "# Array Processing\n",
    "\n",
    "* Kadane's Algorithm (maximal sub-arrays):\n",
    "    * Used for finding the maximum value of sub-arrays in a given array\n",
    "    * Scan through the array, continuously updating: 1) the current value of the sub-array and 2) the maxmimum value seen so far\n",
    "    * If the value of the current sub-array becomes negative, reset to zero because you know that a max will never start with that sub-array--the prefix would always decrease the value of any subsequent sub-array\n",
    "    * When you're done, return the max"
   ]
  },
  {
   "cell_type": "code",
   "execution_count": null,
   "metadata": {},
   "outputs": [],
   "source": []
  }
 ],
 "metadata": {
  "kernelspec": {
   "display_name": "Python 3",
   "language": "python",
   "name": "python3"
  },
  "language_info": {
   "codemirror_mode": {
    "name": "ipython",
    "version": 3
   },
   "file_extension": ".py",
   "mimetype": "text/x-python",
   "name": "python",
   "nbconvert_exporter": "python",
   "pygments_lexer": "ipython3",
   "version": "3.9.5"
  }
 },
 "nbformat": 4,
 "nbformat_minor": 2
}
